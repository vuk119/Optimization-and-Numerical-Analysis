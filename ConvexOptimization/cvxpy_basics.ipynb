{
 "cells": [
  {
   "cell_type": "code",
   "execution_count": 2,
   "metadata": {},
   "outputs": [],
   "source": [
    "import numpy as np\n",
    "import cvxpy as cp\n",
    "import matplotlib.pyplot as plt\n",
    "%matplotlib inline"
   ]
  },
  {
   "cell_type": "markdown",
   "metadata": {},
   "source": [
    "## Basics"
   ]
  },
  {
   "cell_type": "markdown",
   "metadata": {},
   "source": [
    "### 1D variables"
   ]
  },
  {
   "cell_type": "code",
   "execution_count": 4,
   "metadata": {},
   "outputs": [
    {
     "name": "stdout",
     "output_type": "stream",
     "text": [
      "Status: optimal\n",
      "Optimal Value: 1.000\n",
      "Optimal Variables: 1.000, 0.000\n"
     ]
    }
   ],
   "source": [
    "# Create variables\n",
    "\n",
    "x = cp.Variable()\n",
    "y = cp.Variable()\n",
    "\n",
    "# Create Constraints\n",
    "constraints = [ x + y == 1, \n",
    "               x - y >= 1]\n",
    "\n",
    "# Form the objective\n",
    "obj = cp.Minimize((x - y) ** 2)\n",
    "\n",
    "# Form and solve the problem\n",
    "prob = cp.Problem(obj, constraints)\n",
    "prob.solve()\n",
    "\n",
    "print(f\"Status: {prob.status}\")\n",
    "print(f\"Optimal Value: {prob.value:.3f}\")\n",
    "print(f\"Optimal Variables: {x.value:.3f}, {y.value:.3f}\")"
   ]
  },
  {
   "cell_type": "markdown",
   "metadata": {},
   "source": [
    "### Variables"
   ]
  },
  {
   "cell_type": "code",
   "execution_count": 5,
   "metadata": {},
   "outputs": [],
   "source": [
    "# A Scalar\n",
    "a = cp.Variable()\n",
    "\n",
    "# Vector variable with shape (5, )\n",
    "x = cp.Variable(5)\n",
    "\n",
    "# Matrix variable with shape (4, 7)\n",
    "A = cp.Variable((4, 7))"
   ]
  },
  {
   "cell_type": "markdown",
   "metadata": {},
   "source": [
    "### Parameters"
   ]
  },
  {
   "cell_type": "code",
   "execution_count": 6,
   "metadata": {},
   "outputs": [],
   "source": [
    "# A positive Scalar\n",
    "m = cp.Parameter(nonneg=True)\n",
    "\n",
    "# A matrix\n",
    "G = cp.Parameter((4, 7), nonpos=True)\n",
    "\n",
    "G.value = -np.ones((4, 7))"
   ]
  },
  {
   "cell_type": "code",
   "execution_count": null,
   "metadata": {},
   "outputs": [],
   "source": []
  }
 ],
 "metadata": {
  "kernelspec": {
   "display_name": "Python 3.10.4 ('env')",
   "language": "python",
   "name": "python3"
  },
  "language_info": {
   "codemirror_mode": {
    "name": "ipython",
    "version": 3
   },
   "file_extension": ".py",
   "mimetype": "text/x-python",
   "name": "python",
   "nbconvert_exporter": "python",
   "pygments_lexer": "ipython3",
   "version": "3.10.4"
  },
  "orig_nbformat": 4,
  "vscode": {
   "interpreter": {
    "hash": "b03e102fbac4998a17714fbe7f37c813d994f17a0e371fff07560b11aaa31f50"
   }
  }
 },
 "nbformat": 4,
 "nbformat_minor": 2
}
